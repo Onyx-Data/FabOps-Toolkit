{
    "cells": [
        {
            "cell_type": "code",
            "source": [
                "%run NB - Load Configuration"
            ],
            "outputs": [],
            "execution_count": null,
            "metadata": {
                "microsoft": {
                    "language": "python",
                    "language_group": "synapse_pyspark"
                }
            },
            "id": "8931bf4e-a315-4718-b80d-893d62319bdd"
        },
        {
            "cell_type": "code",
            "source": [
                "import uuid\n",
                "executionId=str.replace(str(uuid.uuid4()),\"-\",\"\")"
            ],
            "outputs": [],
            "execution_count": null,
            "metadata": {
                "microsoft": {
                    "language": "python",
                    "language_group": "synapse_pyspark"
                }
            },
            "id": "3a46551d-d6d8-41a5-9e4e-2c6c2784dcc5"
        },
        {
            "cell_type": "code",
            "source": [
                "contenttosave=\"{\\\"accountNumber\\\": \\\"ACC-2227886-77464-28\\\", \\\"batchSize\\\": 3000, \\\"MaxLingerMs\\\": 1000}\"\n",
                "path=\"ingestiontest/\"\n",
                "filenameprefix=\"somejsonfile\""
            ],
            "outputs": [],
            "execution_count": null,
            "metadata": {
                "tags": [
                    "parameters"
                ],
                "microsoft": {
                    "language": "python",
                    "language_group": "synapse_pyspark"
                }
            },
            "id": "c596b23e-a3ad-4ea6-8397-3ac7bb255827"
        },
        {
            "cell_type": "markdown",
            "source": [
                "### Calculate Date Strings for Folder and file"
            ],
            "metadata": {},
            "id": "183c8b5d-8c36-4f38-bd24-8a4bf13e8ef6"
        },
        {
            "cell_type": "code",
            "source": [
                "from datetime import datetime \n",
                "\n",
                "currentdate = datetime.now()\n",
                "\n",
                "datstringfolder = currentdate.strftime('%Y') + currentdate.strftime('%m') + currentdate.strftime('%d')\n",
                "hourstringfolder = currentdate.strftime('%H') + \"0000\"\n",
                "\n",
                "timestringfile = currentdate.strftime('%H%M%S')"
            ],
            "outputs": [],
            "execution_count": null,
            "metadata": {
                "microsoft": {
                    "language": "python",
                    "language_group": "synapse_pyspark"
                }
            },
            "id": "24cee8de-ea1d-4148-86fb-a8f9962edea2"
        },
        {
            "cell_type": "code",
            "source": [
                "include_hourly = locals().get('include_hourly', False)\n",
                "\n",
                "completepath = \"Files/dropzone/\" + path + \"f\" + datstringfolder + \"/\"\n",
                "\n",
                "if include_hourly:\n",
                "    completepath += \"f\" + hourstringfolder + \"/\"\n",
                "completepath += \"f\" + ingestionid\n",
                "\n",
                "completefilename = filenameprefix + \"-\" + timestringfile + \".json\"\n"
            ],
            "outputs": [],
            "execution_count": null,
            "metadata": {
                "microsoft": {
                    "language": "python",
                    "language_group": "synapse_pyspark"
                }
            },
            "id": "30f517b8-795f-429a-8352-63c61361614e"
        },
        {
            "cell_type": "markdown",
            "source": [
                "### Function to save a single JSON file"
            ],
            "metadata": {},
            "id": "8023ede8-6980-42f6-824e-c08218e719ff"
        },
        {
            "cell_type": "code",
            "source": [
                "def createFolderIfDoesntExist(folder):\n",
                "    if not mssparkutils.fs.exists(folder):\n",
                "        mssparkutils.fs.mkdirs(folder)\n"
            ],
            "outputs": [],
            "execution_count": null,
            "metadata": {
                "microsoft": {
                    "language": "python",
                    "language_group": "synapse_pyspark"
                }
            },
            "id": "d4ba972d-b2d6-4b72-86b7-0f9c3ddad5f6"
        },
        {
            "cell_type": "code",
            "source": [
                "def saveResult (content, file_path, file_name):    \n",
                "    createFolderIfDoesntExist(file_path)\n",
                "    full_path=file_path + \"/\" + file_name\n",
                "    with open(\"/lakehouse/default/\" + full_path, \"a+\") as write_file:\n",
                "        write_file.write(content)\n"
            ],
            "outputs": [],
            "execution_count": null,
            "metadata": {
                "microsoft": {
                    "language": "python",
                    "language_group": "synapse_pyspark"
                }
            },
            "id": "8d4139c1-8078-45ce-b3f4-d0dffaddb23f"
        },
        {
            "cell_type": "markdown",
            "source": [
                "### Save the JSON File"
            ],
            "metadata": {},
            "id": "9c52fb2d-6600-4403-9727-99c9faaa4232"
        },
        {
            "cell_type": "code",
            "source": [
                "saveResult(contenttosave, completepath,completefilename)"
            ],
            "outputs": [],
            "execution_count": null,
            "metadata": {
                "microsoft": {
                    "language": "python",
                    "language_group": "synapse_pyspark"
                }
            },
            "id": "6566efd8-1c79-4549-8da3-3ebb4ffc17b8"
        }
    ],
    "metadata": {
        "language_info": {
            "name": "python"
        },
        "kernel_info": {
            "name": "synapse_pyspark"
        },
        "a365ComputeOptions": null,
        "sessionKeepAliveTimeout": 0,
        "microsoft": {
            "language": "python",
            "language_group": "synapse_pyspark",
            "ms_spell_check": {
                "ms_spell_check_language": "en"
            }
        },
        "nteract": {
            "version": "nteract-front-end@1.0.0"
        },
        "spark_compute": {
            "compute_id": "/trident/default",
            "session_options": {
                "conf": {
                    "spark.synapse.nbs.session.timeout": "1200000"
                }
            }
        },
        "dependencies": {
            "lakehouse": {
                "default_lakehouse": "83037cfc-6791-4ac4-ae26-38075549718d",
                "default_lakehouse_name": "OnyxToolsLake",
                "default_lakehouse_workspace_id": "0409393c-944d-4b64-9222-d4017c7466d0",
                "known_lakehouses": [
                    {
                        "id": "83037cfc-6791-4ac4-ae26-38075549718d"
                    }
                ]
            }
        }
    },
    "nbformat": 4,
    "nbformat_minor": 5
}