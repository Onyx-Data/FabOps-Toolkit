{
    "nbformat": 4,
    "nbformat_minor": 5,
    "metadata": {
        "language_info": {
            "name": "python"
        },
        "kernel_info": {
            "name": "synapse_pyspark",
            "jupyter_kernel_name": null
        },
        "a365ComputeOptions": null,
        "sessionKeepAliveTimeout": 0,
        "dependencies": {
            "lakehouse": {
                "default_lakehouse": "83037cfc-6791-4ac4-ae26-38075549718d",
                "default_lakehouse_name": "OnyxToolsLake",
                "default_lakehouse_workspace_id": "0409393c-944d-4b64-9222-d4017c7466d0",
                "known_lakehouses": [
                    {
                        "id": "83037cfc-6791-4ac4-ae26-38075549718d"
                    }
                ]
            }
        }
    },
    "cells": [
        {
            "cell_type": "code",
            "metadata": {
                "microsoft": {
                    "language": "python",
                    "language_group": "synapse_pyspark"
                }
            },
            "source": [
                "%run NB - Load Configuration"
            ],
            "outputs": []
        },
        {
            "cell_type": "code",
            "metadata": {
                "microsoft": {
                    "language": "python",
                    "language_group": "synapse_pyspark"
                }
            },
            "source": [
                "import uuid\n",
                "executionId=str.replace(str(uuid.uuid4()),\"-\",\"\")"
            ],
            "outputs": []
        },
        {
            "cell_type": "code",
            "metadata": {
                "tags": [
                    "parameters"
                ],
                "microsoft": {
                    "language": "python",
                    "language_group": "synapse_pyspark"
                }
            },
            "source": [
                "contenttosave=\"{\\\"accountNumber\\\": \\\"ACC-2227886-77464-28\\\", \\\"batchSize\\\": 3000, \\\"MaxLingerMs\\\": 1000}\"\n",
                "path=\"ingestiontest/\"\n",
                "filenameprefix=\"somejsonfile\""
            ],
            "outputs": []
        },
        {
            "cell_type": "markdown",
            "metadata": null,
            "source": [
                "### Calculate Date Strings for Folder and file"
            ]
        },
        {
            "cell_type": "code",
            "metadata": {
                "microsoft": {
                    "language": "python",
                    "language_group": "synapse_pyspark"
                }
            },
            "source": [
                "from datetime import datetime \n",
                "\n",
                "currentdate = datetime.now()\n",
                "\n",
                "datstringfolder = currentdate.strftime('%Y') + currentdate.strftime('%m') + currentdate.strftime('%d')\n",
                "hourstringfolder = currentdate.strftime('%H') + \"0000\"\n",
                "\n",
                "timestringfile = currentdate.strftime('%H%M%S')"
            ],
            "outputs": []
        },
        {
            "cell_type": "code",
            "metadata": {
                "microsoft": {
                    "language": "python",
                    "language_group": "synapse_pyspark"
                }
            },
            "source": [
                "include_hourly = locals().get('include_hourly', False)\n",
                "\n",
                "completepath = \"Files/dropzone/\" + path + \"f\" + datstringfolder + \"/\"\n",
                "\n",
                "if include_hourly:\n",
                "    completepath += \"f\" + hourstringfolder + \"/\"\n",
                "completepath += \"f\" + ingestionid\n",
                "\n",
                "completefilename = filenameprefix + \"-\" + timestringfile + \".json\"\n"
            ],
            "outputs": []
        },
        {
            "cell_type": "markdown",
            "metadata": null,
            "source": [
                "### Function to save a single JSON file"
            ]
        },
        {
            "cell_type": "code",
            "metadata": {
                "microsoft": {
                    "language": "python",
                    "language_group": "synapse_pyspark"
                }
            },
            "source": [
                "def createFolderIfDoesntExist(folder):\n",
                "    if not mssparkutils.fs.exists(folder):\n",
                "        mssparkutils.fs.mkdirs(folder)\n"
            ],
            "outputs": []
        },
        {
            "cell_type": "code",
            "metadata": {
                "microsoft": {
                    "language": "python",
                    "language_group": "synapse_pyspark"
                }
            },
            "source": [
                "def saveResult (content, file_path, file_name):    \n",
                "    createFolderIfDoesntExist(file_path)\n",
                "    full_path=file_path + \"/\" + file_name\n",
                "    with open(\"/lakehouse/default/\" + full_path, \"a+\") as write_file:\n",
                "        write_file.write(content)\n"
            ],
            "outputs": []
        },
        {
            "cell_type": "markdown",
            "metadata": null,
            "source": [
                "### Save the JSON File"
            ]
        },
        {
            "cell_type": "code",
            "metadata": {
                "microsoft": {
                    "language": "python",
                    "language_group": "synapse_pyspark"
                }
            },
            "source": [
                "saveResult(contenttosave, completepath,completefilename)"
            ],
            "outputs": []
        }
    ]
}