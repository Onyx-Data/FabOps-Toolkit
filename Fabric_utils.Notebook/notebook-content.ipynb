{
    "cells": [
        {
            "cell_type": "code",
            "source": [
                "%run NB - Load Configuration"
            ],
            "outputs": [],
            "execution_count": null,
            "metadata": {
                "microsoft": {
                    "language": "python",
                    "language_group": "synapse_pyspark"
                }
            },
            "id": "6f0ab460-1c42-4897-b314-d760889bb071"
        },
        {
            "cell_type": "code",
            "source": [
                "# fabric_utils.py\n",
                "import sempy.fabric as fabric\n",
                "from sempy.fabric import FabricRestClient\n",
                "\n",
                "def get_workspace_id(workspace_name):\n",
                "    \"\"\"\n",
                "    Resolve Workspace ID from its name\n",
                "    \"\"\"\n",
                "    try:\n",
                "        workspace_id = fabric.resolve_workspace_id(workspace_name)\n",
                "        # print(f\"Workspace '{workspace_name}' resolved to ID: {workspace_id}\")\n",
                "        return workspace_id\n",
                "    except Exception as e:\n",
                "        raise ValueError(f\"Could not resolve workspace '{workspace_name}': {e}\")\n",
                "\n",
                "def get_lakehouse_id(workspace_name, lakehouse_name):\n",
                "    \"\"\"\n",
                "    Resolve Lakehouse ID from workspace and lakehouse name\n",
                "    \"\"\"\n",
                "    try:\n",
                "        workspace_id = get_workspace_id(workspace_name)\n",
                "        lakehouse_id = fabric.resolve_item_id(lakehouse_name, \"Lakehouse\", workspace_id)\n",
                "        # print(f\"Lakehouse '{lakehouse_name}' in workspace '{workspace_name}' resolved to ID: {lakehouse_id}\")\n",
                "        return lakehouse_id\n",
                "    except Exception as e:\n",
                "        raise ValueError(f\"Could not resolve lakehouse '{lakehouse_name}': {e}\")\n"
            ],
            "outputs": [],
            "execution_count": null,
            "metadata": {
                "run_control": {
                    "frozen": true
                },
                "editable": false,
                "microsoft": {
                    "language": "python",
                    "language_group": "synapse_pyspark"
                }
            },
            "id": "40147a4e-6773-4973-b817-db33717727fe"
        },
        {
            "cell_type": "code",
            "source": [
                "import sempy.fabric as fabric\n",
                "\n",
                "def get_workspace_id(workspace_name):\n",
                "    \"\"\"\n",
                "    Resolve Workspace ID from its name\n",
                "    \"\"\"\n",
                "    try:\n",
                "        workspace_id = fabric.resolve_workspace_id(workspace_name)\n",
                "        return workspace_id\n",
                "    except Exception as e:\n",
                "        raise ValueError(f\"Could not resolve workspace '{workspace_name}': {e}\")\n",
                "\n",
                "def get_lakehouse_id(workspace_name, lakehouse_name):\n",
                "    \"\"\"\n",
                "    Resolve one or more Lakehouse IDs from workspace and lakehouse name(s)\n",
                "    - Always expects lakehouse_names as a list (even for one)\n",
                "    - Returns a dict {lakehouse_name: lakehouse_id}\n",
                "    \"\"\"\n",
                "    if not isinstance(lakehouse_name, list):\n",
                "        raise TypeError(\"lakehouse_names must be a list of lakehouse names (even for one)\")\n",
                "\n",
                "    try:\n",
                "        workspace_id = get_workspace_id(workspace_name)\n",
                "        lakehouse_id = {}\n",
                "        for lh_name in lakehouse_name:\n",
                "            try:\n",
                "                lh_id = fabric.resolve_item_id(lh_name, \"Lakehouse\", workspace_id)\n",
                "                lakehouse_id[lh_name] = lh_id\n",
                "            except Exception as sub_e:\n",
                "                lakehouse_id[lh_name] = f\"Error: {sub_e}\"\n",
                "        return lakehouse_id\n",
                "\n",
                "    except Exception as e:\n",
                "        raise ValueError(f\"Could not resolve lakehouse(s) in workspace '{workspace_name}': {e}\")\n"
            ],
            "outputs": [],
            "execution_count": null,
            "metadata": {
                "run_control": {
                    "frozen": true
                },
                "editable": false,
                "microsoft": {
                    "language": "python",
                    "language_group": "synapse_pyspark"
                }
            },
            "id": "e0850fe8-c952-4627-adc2-b093f0867526"
        },
        {
            "cell_type": "code",
            "source": [
                "import sempy.fabric as fabric\n",
                "\n",
                "def get_workspace_id(workspace_name):\n",
                "    \"\"\"\n",
                "    Resolve Workspace ID from its name.\n",
                "    Returns workspace_id as string.\n",
                "    \"\"\"\n",
                "    try:\n",
                "        workspace_id = fabric.resolve_workspace_id(workspace_name)\n",
                "        return workspace_id\n",
                "    except Exception as e:\n",
                "        raise ValueError(f\"Could not resolve workspace '{workspace_name}': {e}\")\n",
                "\n",
                "def get_lakehouse_id(workspace_name, lakehouse_name):\n",
                "    \"\"\"\n",
                "    Resolve Lakehouse ID from workspace and lakehouse name.\n",
                "    Returns lakehouse_id as string.\n",
                "    \"\"\"\n",
                "    if not isinstance(lakehouse_name, str):\n",
                "        raise TypeError(\"lakehouse_name must be a string.\")\n",
                "\n",
                "    try:\n",
                "        workspace_id = get_workspace_id(workspace_name)\n",
                "        lakehouse_id = fabric.resolve_item_id(lakehouse_name, \"Lakehouse\", workspace_id)\n",
                "        return lakehouse_id\n",
                "    except Exception as e:\n",
                "        raise ValueError(f\"Could not resolve lakehouse '{lakehouse_name}' in workspace '{workspace_name}': {e}\")\n"
            ],
            "outputs": [],
            "execution_count": null,
            "metadata": {
                "microsoft": {
                    "language": "python",
                    "language_group": "synapse_pyspark"
                }
            },
            "id": "83965b5a-8402-47bc-844e-70b3f31fc2f0"
        }
    ],
    "metadata": {
        "language_info": {
            "name": "python"
        },
        "kernel_info": {
            "name": "synapse_pyspark"
        },
        "a365ComputeOptions": null,
        "sessionKeepAliveTimeout": 0,
        "microsoft": {
            "language": "python",
            "language_group": "synapse_pyspark",
            "ms_spell_check": {
                "ms_spell_check_language": "en"
            }
        },
        "nteract": {
            "version": "nteract-front-end@1.0.0"
        },
        "spark_compute": {
            "compute_id": "/trident/default",
            "session_options": {
                "conf": {
                    "spark.synapse.nbs.session.timeout": "1200000"
                }
            }
        },
        "dependencies": {
            "lakehouse": null
        }
    },
    "nbformat": 4,
    "nbformat_minor": 5
}