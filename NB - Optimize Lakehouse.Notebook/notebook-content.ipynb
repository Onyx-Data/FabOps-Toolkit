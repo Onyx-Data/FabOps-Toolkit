{
    "cells": [
        {
            "cell_type": "markdown",
            "source": [
                "#### Enter desired Lakehouse Name and Workspace Name to Optimize"
            ],
            "metadata": {},
            "id": "79efdc74-1d13-49b1-97cd-52ed4e4f66cc"
        },
        {
            "cell_type": "code",
            "source": [
                "# UsersProperty\n",
                "workspace_name = 'FeatureOnyxToolsII'\n",
                "lakehouse_name = \"TEST00005\"\n",
                "\n",
                "print(f\"Lakehouse to mount: {lakehouse_name}\")\n",
                "print(f\"Workspace : {workspace_name}\")"
            ],
            "outputs": [],
            "execution_count": null,
            "metadata": {
                "tags": [
                    "parameters"
                ],
                "microsoft": {
                    "language": "python",
                    "language_group": "synapse_pyspark"
                }
            },
            "id": "c0a5b7f1-6ac1-4775-a0de-5b3cde402079"
        },
        {
            "cell_type": "code",
            "source": [
                "%run NB - Load Configuration"
            ],
            "outputs": [],
            "execution_count": null,
            "metadata": {
                "microsoft": {
                    "language": "python",
                    "language_group": "synapse_pyspark"
                }
            },
            "id": "c981df67-1ee1-420c-ad67-9efa19789448"
        },
        {
            "cell_type": "code",
            "source": [
                "import notebookutils\n",
                "from notebookutils import mssparkutils\n",
                "from pyspark.sql import SparkSession"
            ],
            "outputs": [],
            "execution_count": null,
            "metadata": {
                "microsoft": {
                    "language": "python",
                    "language_group": "synapse_pyspark"
                }
            },
            "id": "a6d9e18c-6e42-4a04-a16d-65e541a8e8ac"
        },
        {
            "cell_type": "code",
            "source": [
                "%run Fabric_utils"
            ],
            "outputs": [],
            "execution_count": null,
            "metadata": {
                "microsoft": {
                    "language": "python",
                    "language_group": "synapse_pyspark"
                }
            },
            "id": "d616c2f7-f016-4d54-b384-ed940e40359d"
        },
        {
            "cell_type": "code",
            "source": [
                "workspace_id = get_workspace_id(workspace_name)\n",
                "lakehouse_id = get_lakehouse_id(workspace_name, lakehouse_name)\n"
            ],
            "outputs": [],
            "execution_count": null,
            "metadata": {
                "microsoft": {
                    "language": "python",
                    "language_group": "synapse_pyspark"
                }
            },
            "id": "7207f9bd-fc0a-4675-921f-ddb5870c12cc"
        },
        {
            "cell_type": "code",
            "source": [
                "\n",
                "storage_url = f\"abfss://{workspace_id}@onelake.dfs.fabric.microsoft.com/{lakehouse_id}\"\n",
                "mount_point = f\"/{lakehouse_name}\"  \n",
                "\n",
                "notebookutils.fs.mount(storage_url, mount_point)\n",
                "\n",
                "mount_info = next((m for m in notebookutils.fs.mounts() if m.mountPoint == mount_point), None)\n",
                "\n",
                "if mount_info:\n",
                "    localPath = mount_info.localPath  \n",
                "    print(f\"localPath = {localPath}\")\n",
                "\n",
                "else:\n",
                "    raise ValueError(f\"Mount point {mount_point} not found!\")\n"
            ],
            "outputs": [],
            "execution_count": null,
            "metadata": {
                "microsoft": {
                    "language": "python",
                    "language_group": "synapse_pyspark"
                }
            },
            "id": "9eaea867-a3bd-48d6-8fda-bf63e6eaed75"
        },
        {
            "cell_type": "markdown",
            "source": [
                "#### TableSize Analysis"
            ],
            "metadata": {},
            "id": "c43671f9-37e8-46aa-925d-dc9d95f41add"
        },
        {
            "cell_type": "code",
            "source": [
                "distinct_folder=mssparkutils.notebook.run(\"NB - TableSizeAnalysis\",500,{\n",
                "    \"beforeAfter\": \"before\",\n",
                "    \"lakehouse_name\": lakehouse_name,\n",
                "    \"lakehouse_path\": localPath\n",
                "})"
            ],
            "outputs": [],
            "execution_count": null,
            "metadata": {
                "run_control": {
                    "frozen": false
                },
                "editable": true,
                "microsoft": {
                    "language": "python",
                    "language_group": "synapse_pyspark"
                }
            },
            "id": "e4109f1e-ebb6-4eae-80e4-80279118cf80"
        },
        {
            "cell_type": "code",
            "source": [
                "mssparkutils.notebook.run(\"NB - performance baseline\",500,{\n",
                "    \"specificpath\":f\"{distinct_folder}/before\",\n",
                "    \"lakehouse_name\": lakehouse_name,\n",
                "    \"lakehouse_id\" : lakehouse_id,\n",
                "    \"workspace_id\" : workspace_id\n",
                "})"
            ],
            "outputs": [],
            "execution_count": null,
            "metadata": {
                "run_control": {
                    "frozen": false
                },
                "editable": true,
                "microsoft": {
                    "language": "python",
                    "language_group": "synapse_pyspark"
                }
            },
            "id": "1ef334be-dc82-4bd1-8a5d-a1e51eb1a09d"
        },
        {
            "cell_type": "markdown",
            "source": [
                "#### Exclude shortcuts from maintenance"
            ],
            "metadata": {},
            "id": "25348345-449c-42bc-b577-c96fa8ccbd05"
        },
        {
            "cell_type": "code",
            "source": [
                "is_parent_call = True"
            ],
            "outputs": [],
            "execution_count": null,
            "metadata": {
                "microsoft": {
                    "language": "python",
                    "language_group": "synapse_pyspark"
                }
            },
            "id": "9e1676c9-3596-421b-8e0f-e55f5dbc8946"
        },
        {
            "cell_type": "code",
            "source": [
                "%run \"NB - Shortcuts Identification\""
            ],
            "outputs": [],
            "execution_count": null,
            "metadata": {
                "microsoft": {
                    "language": "python",
                    "language_group": "synapse_pyspark"
                }
            },
            "id": "93ec1540-8fb8-4fd3-b5bb-7a3353a417d4"
        },
        {
            "cell_type": "code",
            "source": [
                "shortcut_names = fetch_shortcut_names(workspace_id, lakehouse_id)\n",
                "display(shortcut_names)"
            ],
            "outputs": [],
            "execution_count": null,
            "metadata": {
                "run_control": {
                    "frozen": false
                },
                "editable": true,
                "microsoft": {
                    "language": "python",
                    "language_group": "synapse_pyspark"
                }
            },
            "id": "429027d9-d099-4b3b-81aa-e01c7a2a057c"
        },
        {
            "cell_type": "markdown",
            "source": [
                "#### Maintainance"
            ],
            "metadata": {},
            "id": "af3e3e2a-c499-4022-854f-5b5db977cfeb"
        },
        {
            "cell_type": "code",
            "source": [
                "from delta.tables import *\n",
                "from datetime import datetime\n",
                "import pandas as pd\n",
                "\n",
                "spark.conf.set(\"spark.databricks.delta.retentionDurationCheck.enabled\", \"false\")\n",
                "\n",
                "tables_base_path = f\"file:{localPath}/Tables/\"\n",
                "\n",
                "tables_info = mssparkutils.fs.ls(tables_base_path)\n",
                "\n",
                "table_names_df = pd.DataFrame([\n",
                "    {\n",
                "        \"table_name\": t.name.strip('/'),\n",
                "        \"table_path\": tables_base_path + t.name.strip('/')\n",
                "    }\n",
                "    for t in tables_info\n",
                "])\n",
                "\n",
                "all_tables = table_names_df[\"table_name\"].tolist()\n",
                "\n",
                "shortcuts_list = shortcut_names[\"name\"].tolist()\n",
                "\n",
                "real_tables_df = table_names_df[~table_names_df[\"table_name\"].isin(shortcuts_list)].reset_index(drop=True)\n",
                "\n",
                "display(real_tables_df)\n",
                "\n",
                "# 🧹 \n",
                "def cleanTables(table_name, table_path):\n",
                "    retention = 48  \n",
                "    print(f\"\\n🔄 Optimizing and vacuuming: {table_name}\")\n",
                "    spark.sql(f\"OPTIMIZE delta.`{table_path}` VORDER\")\n",
                "    spark.sql(f\"VACUUM delta.`{table_path}` RETAIN {retention} HOURS\")\n",
                "    print(f\"✅ Completed: {table_name}\")\n",
                "\n",
                "# 🔁 \n",
                "for _, row in real_tables_df.iterrows():\n",
                "    cleanTables(row[\"table_name\"], row[\"table_path\"])\n"
            ],
            "outputs": [],
            "execution_count": null,
            "metadata": {
                "microsoft": {
                    "language": "python",
                    "language_group": "synapse_pyspark"
                }
            },
            "id": "85147fbe-a167-42ed-bc53-eeca29569558"
        },
        {
            "cell_type": "code",
            "source": [
                "mssparkutils.notebook.run(\"NB - TableSizeAnalysis\",500,{\n",
                "     \"beforeAfter\": \"after\", \n",
                "     \"distinct_folder\": distinct_folder,\n",
                "    \"lakehouse_name\": lakehouse_name,\n",
                "    \"lakehouse_path\": localPath\n",
                "})"
            ],
            "outputs": [],
            "execution_count": null,
            "metadata": {
                "microsoft": {
                    "language": "python",
                    "language_group": "synapse_pyspark"
                }
            },
            "id": "08a00554-959b-4c2d-9774-328490ff434a"
        }
    ],
    "metadata": {
        "language_info": {
            "name": "python"
        },
        "kernel_info": {
            "name": "synapse_pyspark"
        },
        "a365ComputeOptions": null,
        "sessionKeepAliveTimeout": 0,
        "microsoft": {
            "language": "python",
            "language_group": "synapse_pyspark",
            "ms_spell_check": {
                "ms_spell_check_language": "en"
            }
        },
        "nteract": {
            "version": "nteract-front-end@1.0.0"
        },
        "spark_compute": {
            "compute_id": "/trident/default",
            "session_options": {
                "conf": {
                    "spark.synapse.nbs.session.timeout": "1200000"
                }
            }
        },
        "dependencies": {
            "lakehouse": {
                "default_lakehouse": "83037cfc-6791-4ac4-ae26-38075549718d",
                "default_lakehouse_name": "OnyxToolsLake",
                "default_lakehouse_workspace_id": "0409393c-944d-4b64-9222-d4017c7466d0",
                "known_lakehouses": [
                    {
                        "id": "83037cfc-6791-4ac4-ae26-38075549718d"
                    }
                ]
            }
        }
    },
    "nbformat": 4,
    "nbformat_minor": 5
}