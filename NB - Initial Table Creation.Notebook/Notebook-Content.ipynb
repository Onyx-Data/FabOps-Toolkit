{
    "cells": [
        {
            "cell_type": "code",
            "source": [
                "from pyspark.sql.types import StructType, StructField, StringType, TimestampType\n",
                "from datetime import datetime\n",
                "\n",
                "# Define schema for the table\n",
                "schema = StructType([\n",
                "StructField(\"batchID\", StringType(), True),\n",
                "StructField(\"sqlEndpointId\", StringType(), True),\n",
                "StructField(\"executionTime\", TimestampType(), True)\n",
                "])\n",
                "# Create sample data\n",
                "data = []\n",
                "\n",
                "# Create a Dataframe with the schema\n",
                "df = spark.createDataFrame(data, schema)\n",
                "\n",
                "# Define the table name in the default lakehouse\n",
                "lakehouse_table_path = \"Tables/SQLEndpointsRefreshCalls\"\n",
                "\n",
                "# Write the DataFrame to the lakehouse as a table\n",
                "df.write.format(\"delta\").mode(\"overwrite\").save(lakehouse_table_path)\n"
            ],
            "outputs": [],
            "execution_count": null,
            "metadata": {
                "microsoft": {
                    "language": "python",
                    "language_group": "synapse_pyspark"
                }
            },
            "id": "b2c28f2a-9eae-4577-ada5-46005e3405ee"
        },
        {
            "cell_type": "markdown",
            "source": [
                "# Initial table to include workspaces and Notebook for Monitoring"
            ],
            "metadata": {},
            "id": "d92fe20c-3691-4f6c-8864-a80f28f55992"
        },
        {
            "cell_type": "code",
            "source": [
                "from pyspark.sql.types import StructType, StructField, StringType, TimestampType\n",
                "from datetime import datetime\n",
                "\n",
                "# Define schema for the table\n",
                "schema = StructType([\n",
                "    StructField(\"Workspace\", StringType(), True),\n",
                "    StructField(\"Notebook\", StringType(), True)\n",
                "])\n",
                "\n",
                "# Create sample data\n",
                "data = [\n",
                "    (\"OnyxTools-Test\", \"NB - Dummy Data\"),\n",
                "    (\"OnyxTools-Test\", \"NB - Sempy Retrieves IDs\")\n",
                "]\n",
                "\n",
                "# Create DataFrame with the schema\n",
                "df = spark.createDataFrame(data, schema)\n",
                "\n",
                "# Define the table path in the default lakehouse\n",
                "lakehouse_table_path = \"Tables/disablednotebookmonitoring\"\n",
                "\n",
                "# Write the DataFrame to the lakehouse as a Delta table\n",
                "df.write.format(\"delta\").mode(\"overwrite\").save(lakehouse_table_path)"
            ],
            "outputs": [],
            "execution_count": 1,
            "metadata": {
                "microsoft": {
                    "language": "python",
                    "language_group": "synapse_pyspark"
                },
                "cellStatus": "{\"Francis Folaranmi\":{\"session_start_time\":\"2025-07-22T12:30:05.1517827Z\",\"execution_start_time\":\"2025-07-22T12:30:16.5292849Z\",\"execution_finish_time\":\"2025-07-22T12:30:21.2025099Z\",\"state\":\"finished\",\"livy_statement_state\":\"available\",\"normalized_state\":\"finished\"}}"
            },
            "id": "388df750-2b32-4a96-9d3c-f950f1afae05"
        }
    ],
    "metadata": {
        "language_info": {
            "name": "python"
        },
        "kernel_info": {
            "name": "synapse_pyspark"
        },
        "a365ComputeOptions": null,
        "sessionKeepAliveTimeout": 0,
        "microsoft": {
            "language": "python",
            "language_group": "synapse_pyspark",
            "ms_spell_check": {
                "ms_spell_check_language": "en"
            }
        },
        "nteract": {
            "version": "nteract-front-end@1.0.0"
        },
        "spark_compute": {
            "compute_id": "/trident/default",
            "session_options": {
                "conf": {
                    "spark.synapse.nbs.session.timeout": "1200000"
                }
            }
        },
        "dependencies": {
            "lakehouse": {
                "default_lakehouse": "83037cfc-6791-4ac4-ae26-38075549718d",
                "default_lakehouse_name": "OnyxToolsLake",
                "default_lakehouse_workspace_id": "0409393c-944d-4b64-9222-d4017c7466d0",
                "known_lakehouses": [
                    {
                        "id": "83037cfc-6791-4ac4-ae26-38075549718d"
                    }
                ]
            }
        }
    },
    "nbformat": 4,
    "nbformat_minor": 5
}