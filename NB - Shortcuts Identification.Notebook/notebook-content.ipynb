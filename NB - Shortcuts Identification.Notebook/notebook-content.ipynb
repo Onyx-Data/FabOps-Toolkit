{
    "nbformat": 4,
    "nbformat_minor": 5,
    "metadata": {
        "language_info": {
            "name": "python"
        },
        "kernel_info": {
            "name": "synapse_pyspark",
            "jupyter_kernel_name": null
        },
        "a365ComputeOptions": null,
        "sessionKeepAliveTimeout": 0,
        "dependencies": {
            "lakehouse": {
                "default_lakehouse": "83037cfc-6791-4ac4-ae26-38075549718d",
                "default_lakehouse_name": "OnyxToolsLake",
                "default_lakehouse_workspace_id": "0409393c-944d-4b64-9222-d4017c7466d0",
                "known_lakehouses": [
                    {
                        "id": "83037cfc-6791-4ac4-ae26-38075549718d"
                    }
                ]
            }
        },
        "microsoft": {
            "language": "python",
            "language_group": "synapse_pyspark",
            "ms_spell_check": {
                "ms_spell_check_language": "en"
            }
        },
        "nteract": {
            "version": "nteract-front-end@1.0.0"
        },
        "spark_compute": {
            "compute_id": "/trident/default",
            "session_options": {
                "conf": {
                    "spark.synapse.nbs.session.timeout": "1200000"
                }
            }
        },
        "synapse_widget": {
            "version": "0.1",
            "state": {
                "c90e72b6-f869-4254-a973-3e5b67c6c2b3": {
                    "type": "Synapse.DataFrame",
                    "sync_state": {
                        "table": {
                            "rows": [
                                {
                                    "0": "SQLEndpointsRefreshCalls"
                                }
                            ],
                            "schema": [
                                {
                                    "key": "0",
                                    "name": "name",
                                    "type": "string"
                                }
                            ],
                            "truncated": false
                        },
                        "isSummary": false,
                        "language": "python",
                        "wranglerEntryContext": {
                            "candidateVariableNames": [
                                "result_df"
                            ],
                            "dataframeType": "pandas"
                        }
                    },
                    "persist_state": {
                        "view": {
                            "type": "details",
                            "tableOptions": {},
                            "chartOptions": {
                                "chartType": "bar",
                                "categoryFieldKeys": [],
                                "seriesFieldKeys": [],
                                "aggregationType": "sum",
                                "isStacked": false,
                                "binsNumber": 10,
                                "wordFrequency": "-1"
                            },
                            "viewOptionsGroup": [
                                {
                                    "tabItems": [
                                        {
                                            "type": "table",
                                            "name": "Table",
                                            "key": "0",
                                            "options": {}
                                        }
                                    ]
                                }
                            ]
                        }
                    }
                }
            }
        }
    },
    "cells": [
        {
            "id": "d2877b70-8530-455d-9f41-c5d11800fae5",
            "cell_type": "markdown",
            "metadata": {},
            "source": [
                "#### Enter the Workspace Name & Lakehouse Name where Shortcuts are located\n"
            ]
        },
        {
            "id": "cada82f1-34e1-4c31-a044-b5a7ff778f8e",
            "cell_type": "code",
            "metadata": {
                "tags": [
                    "parameters"
                ],
                "microsoft": {
                    "language": "python",
                    "language_group": "synapse_pyspark"
                },
                "cellStatus": "{\"Nalaka Wanniarachchi\":{\"session_start_time\":null,\"execution_start_time\":\"2025-07-17T06:09:16.6099768Z\",\"execution_finish_time\":\"2025-07-17T06:09:17.0186592Z\",\"state\":\"finished\",\"livy_statement_state\":\"available\",\"normalized_state\":\"finished\"}}"
            },
            "source": [
                "Workspace = \"426957d6-d878-4f19-9129-eddb54d242df\"\n",
                "Lakehouse = \"24efbf99-0d02-4bc2-aa17-39346211de99\"\n",
                "input_name = \"DummyData\"  # <-- Replace your table/shortcut name to be checked"
            ],
            "outputs": [],
            "execution_count": 1
        },
        {
            "id": "13dab61c-4d7d-4675-95a8-6c8ebd51a457",
            "cell_type": "code",
            "metadata": {
                "microsoft": {
                    "language": "python",
                    "language_group": "synapse_pyspark"
                },
                "cellStatus": "{\"Nalaka Wanniarachchi\":{\"session_start_time\":null,\"execution_start_time\":\"2025-07-17T06:09:17.4080061Z\",\"execution_finish_time\":\"2025-07-17T06:09:17.4597343Z\",\"state\":\"finished\",\"livy_statement_state\":\"available\",\"normalized_state\":\"finished\"}}"
            },
            "source": [
                "%run NB - Load Configuration"
            ],
            "outputs": [],
            "execution_count": 2
        },
        {
            "id": "8d07123b-37aa-44ca-a92b-3ac67210f5e0",
            "cell_type": "markdown",
            "metadata": {},
            "source": [
                "#### Listing Shortcut Tables"
            ]
        },
        {
            "id": "df85fbfb-8220-48b8-be4c-7edc215cecdc",
            "cell_type": "code",
            "metadata": {
                "microsoft": {
                    "language": "python",
                    "language_group": "synapse_pyspark"
                },
                "cellStatus": "{}",
                "collapsed": false
            },
            "source": [
                "import requests\n",
                "import pandas as pd\n",
                "\n",
                "def fetch_shortcut_names(workspace_id, lakehouse_id):\n",
                "    resource = \"https://api.fabric.microsoft.com\"\n",
                "    token = mssparkutils.credentials.getToken(resource)\n",
                "    headers = {\"Authorization\": f\"Bearer {token}\", \"Content-Type\": \"application/json\"}\n",
                "    shortcuts_url = f\"https://api.fabric.microsoft.com/v1/workspaces/{workspace_id}/items/{lakehouse_id}/shortcuts\"\n",
                "    \n",
                "    print(\"\\nFetching Shortcuts...\")\n",
                "    response = requests.get(shortcuts_url, headers=headers)\n",
                "\n",
                "    if response.ok:\n",
                "        shortcut_items = response.json().get(\"value\", [])\n",
                "        if shortcut_items:\n",
                "            shortcut_names_df = pd.DataFrame([item[\"name\"] for item in shortcut_items if \"name\" in item], columns=[\"name\"])\n",
                "            return shortcut_names_df\n",
                "        else:\n",
                "            print(\"No shortcuts found.\")\n",
                "            return pd.DataFrame(columns=[\"name\"])\n",
                "    else:\n",
                "        print(f\"Error fetching shortcuts: {response.status_code} - {response.text}\")\n",
                "        return pd.DataFrame(columns=[\"name\"])\n",
                "\n",
                "try:\n",
                "    if not is_parent_call:  # is_parent_call \n",
                "        result_df = fetch_shortcut_names(workspace_id, lakehouse_id)\n",
                "        display(result_df)\n",
                "except NameError:\n",
                "    #  standalone\n",
                "    workspace_id = Workspace\n",
                "    lakehouse_id = Lakehouse\n",
                "    result_df = fetch_shortcut_names(workspace_id, lakehouse_id)\n",
                "    display(result_df)\n"
            ],
            "outputs": [],
            "execution_count": 3
        },
        {
            "id": "025ac453-b601-4fdb-88b5-774cb27baa85",
            "cell_type": "markdown",
            "metadata": {},
            "source": [
                "##### Checking whether a given table name is a shortcut table or not"
            ]
        },
        {
            "id": "78825da0-4337-4fef-8978-0a53bb5d106b",
            "cell_type": "code",
            "metadata": {
                "microsoft": {
                    "language": "python",
                    "language_group": "synapse_pyspark"
                },
                "cellStatus": "{}"
            },
            "source": [
                "import requests\n",
                "\n",
                "def check_if_shortcut(workspace_id, lakehouse_id, input_name):\n",
                "    resource = \"https://api.fabric.microsoft.com\"\n",
                "    token = mssparkutils.credentials.getToken(resource)\n",
                "\n",
                "    headers = {\n",
                "        \"Authorization\": f\"Bearer {token}\",\n",
                "        \"Content-Type\": \"application/json\"\n",
                "    }\n",
                "\n",
                "    shortcuts_url = f\"https://api.fabric.microsoft.com/v1/workspaces/{workspace_id}/items/{lakehouse_id}/shortcuts\"\n",
                "    shortcuts_response = requests.get(shortcuts_url, headers=headers)\n",
                "\n",
                "    is_shortcut = False\n",
                "\n",
                "    if shortcuts_response.ok:\n",
                "        shortcut_items = shortcuts_response.json().get(\"value\", [])\n",
                "        for item in shortcut_items:\n",
                "            shortcut_name = item.get(\"name\", \"\").strip().lower()\n",
                "            if shortcut_name == input_name.strip().lower():\n",
                "                is_shortcut = True\n",
                "                break\n",
                "\n",
                "        if is_shortcut:\n",
                "            print(f\"{input_name} is a Shortcut table.\")\n",
                "        else:\n",
                "            print(f\"{input_name} is NOT a Shortcut table.\")\n",
                "    else:\n",
                "        print(f\"Error fetching shortcuts: {shortcuts_response.status_code} - {shortcuts_response.text}\")\n",
                "\n",
                "    # Optional return \n",
                "    if not is_parent_call:\n",
                "        return is_shortcut\n",
                "\n",
                "# Safely handle undefined 'is_parent_call'\n",
                "try:\n",
                "    is_parent_call\n",
                "except NameError:\n",
                "    is_parent_call = False\n",
                "\n",
                "#  Trigger check if not called by parent\n",
                "if not is_parent_call:\n",
                "    check_if_shortcut(Workspace, Lakehouse, input_name)\n"
            ],
            "outputs": [],
            "execution_count": 4
        }
    ]
}