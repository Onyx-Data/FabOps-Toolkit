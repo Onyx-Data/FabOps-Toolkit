{
  "cells": [
    {
      "cell_type": "code",
      "source": [
        "from pyspark.sql.types import StructType, StructField, StringType, TimestampType\n",
        "from datetime import datetime\n",
        "\n",
        "# Define schema for the table\n",
        "schema = StructType([\n",
        "StructField(\"batchID\", StringType(), True),\n",
        "StructField(\"sqlEndpointId\", StringType(), True),\n",
        "StructField(\"executionTime\", TimestampType(), True)\n",
        "])\n",
        "# Create sample data\n",
        "data = []\n",
        "\n",
        "# Create a Dataframe with the schema\n",
        "df = spark.createDataFrame(data, schema)\n",
        "\n",
        "# Define the table name in the default lakehouse\n",
        "lakehouse_table_path = \"Tables/SQLEndpointsRefreshCalls\"\n",
        "\n",
        "# Write the DataFrame to the lakehouse as a table\n",
        "df.write.format(\"delta\").mode(\"append\").save(lakehouse_table_path)\n"
      ],
      "outputs": [],
      "execution_count": null,
      "metadata": {
        "microsoft": {
          "language": "python",
          "language_group": "synapse_pyspark"
        }
      },
      "id": "41ba9d82-59cf-4322-88a2-c89a7359f79f"
    }
  ],
  "metadata": {
    "language_info": {
      "name": "python"
    },
    "kernel_info": {
      "name": "synapse_pyspark"
    },
    "a365ComputeOptions": null,
    "sessionKeepAliveTimeout": 0,
    "microsoft": {
      "language": "python",
      "language_group": "synapse_pyspark",
      "ms_spell_check": {
        "ms_spell_check_language": "en"
      }
    },
    "nteract": {
      "version": "nteract-front-end@1.0.0"
    },
    "spark_compute": {
      "compute_id": "/trident/default",
      "session_options": {
        "conf": {
          "spark.synapse.nbs.session.timeout": "1200000"
        }
      }
    },
    "dependencies": {
      "lakehouse": {
        "default_lakehouse": "4ad6b3dd-57a7-4d06-b3a7-edb6ac77efd5",
        "default_lakehouse_name": "OnyxToolsLake",
        "default_lakehouse_workspace_id": "0763eaca-a88e-4630-b0e3-67f5382c2105",
        "known_lakehouses": [
          {
            "id": "4ad6b3dd-57a7-4d06-b3a7-edb6ac77efd5"
          }
        ]
      }
    }
  },
  "nbformat": 4,
  "nbformat_minor": 5
}
